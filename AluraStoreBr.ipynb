{
  "cells": [
    {
      "cell_type": "markdown",
      "metadata": {
        "id": "RhEdWd9YUR6H"
      },
      "source": [
        "### Importação dos dados\n",
        "\n"
      ]
    },
    {
      "cell_type": "code",
      "execution_count": 1,
      "metadata": {},
      "outputs": [
        {
          "data": {
            "application/vnd.microsoft.datawrangler.viewer.v0+json": {
              "columns": [
                {
                  "name": "index",
                  "rawType": "int64",
                  "type": "integer"
                },
                {
                  "name": "Produto",
                  "rawType": "object",
                  "type": "string"
                },
                {
                  "name": "Categoria do Produto",
                  "rawType": "object",
                  "type": "string"
                },
                {
                  "name": "Preço",
                  "rawType": "float64",
                  "type": "float"
                },
                {
                  "name": "Frete",
                  "rawType": "float64",
                  "type": "float"
                },
                {
                  "name": "Data da Compra",
                  "rawType": "object",
                  "type": "string"
                },
                {
                  "name": "Vendedor",
                  "rawType": "object",
                  "type": "string"
                },
                {
                  "name": "Local da compra",
                  "rawType": "object",
                  "type": "string"
                },
                {
                  "name": "Avaliação da compra",
                  "rawType": "int64",
                  "type": "integer"
                },
                {
                  "name": "Tipo de pagamento",
                  "rawType": "object",
                  "type": "string"
                },
                {
                  "name": "Quantidade de parcelas",
                  "rawType": "int64",
                  "type": "integer"
                },
                {
                  "name": "lat",
                  "rawType": "float64",
                  "type": "float"
                },
                {
                  "name": "lon",
                  "rawType": "float64",
                  "type": "float"
                }
              ],
              "conversionMethod": "pd.DataFrame",
              "ref": "e4f465f2-29b1-480e-aa5e-97398b5906c5",
              "rows": [
                [
                  "0",
                  "Assistente virtual",
                  "eletronicos",
                  "219.08",
                  "9.2497899853",
                  "16/01/2021",
                  "Pedro Gomes",
                  "SP",
                  "4",
                  "cartao_credito",
                  "8",
                  "-22.19",
                  "-48.79"
                ],
                [
                  "1",
                  "Mesa de jantar",
                  "moveis",
                  "256.35",
                  "11.2343053621",
                  "18/05/2022",
                  "Beatriz Moraes",
                  "RJ",
                  "1",
                  "cartao_credito",
                  "4",
                  "-22.25",
                  "-42.66"
                ],
                [
                  "2",
                  "Jogo de tabuleiro",
                  "brinquedos",
                  "279.51",
                  "21.2626809863",
                  "15/03/2021",
                  "João Souza",
                  "DF",
                  "1",
                  "cartao_credito",
                  "1",
                  "-15.83",
                  "-47.86"
                ],
                [
                  "3",
                  "Micro-ondas",
                  "eletrodomesticos",
                  "1009.99",
                  "54.6673442173",
                  "03/05/2022",
                  "João Souza",
                  "RS",
                  "4",
                  "boleto",
                  "1",
                  "-30.17",
                  "-53.5"
                ],
                [
                  "4",
                  "Cadeira de escritório",
                  "moveis",
                  "446.99",
                  "26.9646890964",
                  "07/11/2020",
                  "Larissa Alves",
                  "MG",
                  "5",
                  "boleto",
                  "1",
                  "-18.1",
                  "-44.38"
                ]
              ],
              "shape": {
                "columns": 12,
                "rows": 5
              }
            },
            "text/html": [
              "<div>\n",
              "<style scoped>\n",
              "    .dataframe tbody tr th:only-of-type {\n",
              "        vertical-align: middle;\n",
              "    }\n",
              "\n",
              "    .dataframe tbody tr th {\n",
              "        vertical-align: top;\n",
              "    }\n",
              "\n",
              "    .dataframe thead th {\n",
              "        text-align: right;\n",
              "    }\n",
              "</style>\n",
              "<table border=\"1\" class=\"dataframe\">\n",
              "  <thead>\n",
              "    <tr style=\"text-align: right;\">\n",
              "      <th></th>\n",
              "      <th>Produto</th>\n",
              "      <th>Categoria do Produto</th>\n",
              "      <th>Preço</th>\n",
              "      <th>Frete</th>\n",
              "      <th>Data da Compra</th>\n",
              "      <th>Vendedor</th>\n",
              "      <th>Local da compra</th>\n",
              "      <th>Avaliação da compra</th>\n",
              "      <th>Tipo de pagamento</th>\n",
              "      <th>Quantidade de parcelas</th>\n",
              "      <th>lat</th>\n",
              "      <th>lon</th>\n",
              "    </tr>\n",
              "  </thead>\n",
              "  <tbody>\n",
              "    <tr>\n",
              "      <th>0</th>\n",
              "      <td>Assistente virtual</td>\n",
              "      <td>eletronicos</td>\n",
              "      <td>219.08</td>\n",
              "      <td>9.249790</td>\n",
              "      <td>16/01/2021</td>\n",
              "      <td>Pedro Gomes</td>\n",
              "      <td>SP</td>\n",
              "      <td>4</td>\n",
              "      <td>cartao_credito</td>\n",
              "      <td>8</td>\n",
              "      <td>-22.19</td>\n",
              "      <td>-48.79</td>\n",
              "    </tr>\n",
              "    <tr>\n",
              "      <th>1</th>\n",
              "      <td>Mesa de jantar</td>\n",
              "      <td>moveis</td>\n",
              "      <td>256.35</td>\n",
              "      <td>11.234305</td>\n",
              "      <td>18/05/2022</td>\n",
              "      <td>Beatriz Moraes</td>\n",
              "      <td>RJ</td>\n",
              "      <td>1</td>\n",
              "      <td>cartao_credito</td>\n",
              "      <td>4</td>\n",
              "      <td>-22.25</td>\n",
              "      <td>-42.66</td>\n",
              "    </tr>\n",
              "    <tr>\n",
              "      <th>2</th>\n",
              "      <td>Jogo de tabuleiro</td>\n",
              "      <td>brinquedos</td>\n",
              "      <td>279.51</td>\n",
              "      <td>21.262681</td>\n",
              "      <td>15/03/2021</td>\n",
              "      <td>João Souza</td>\n",
              "      <td>DF</td>\n",
              "      <td>1</td>\n",
              "      <td>cartao_credito</td>\n",
              "      <td>1</td>\n",
              "      <td>-15.83</td>\n",
              "      <td>-47.86</td>\n",
              "    </tr>\n",
              "    <tr>\n",
              "      <th>3</th>\n",
              "      <td>Micro-ondas</td>\n",
              "      <td>eletrodomesticos</td>\n",
              "      <td>1009.99</td>\n",
              "      <td>54.667344</td>\n",
              "      <td>03/05/2022</td>\n",
              "      <td>João Souza</td>\n",
              "      <td>RS</td>\n",
              "      <td>4</td>\n",
              "      <td>boleto</td>\n",
              "      <td>1</td>\n",
              "      <td>-30.17</td>\n",
              "      <td>-53.50</td>\n",
              "    </tr>\n",
              "    <tr>\n",
              "      <th>4</th>\n",
              "      <td>Cadeira de escritório</td>\n",
              "      <td>moveis</td>\n",
              "      <td>446.99</td>\n",
              "      <td>26.964689</td>\n",
              "      <td>07/11/2020</td>\n",
              "      <td>Larissa Alves</td>\n",
              "      <td>MG</td>\n",
              "      <td>5</td>\n",
              "      <td>boleto</td>\n",
              "      <td>1</td>\n",
              "      <td>-18.10</td>\n",
              "      <td>-44.38</td>\n",
              "    </tr>\n",
              "  </tbody>\n",
              "</table>\n",
              "</div>"
            ],
            "text/plain": [
              "                 Produto Categoria do Produto    Preço      Frete  \\\n",
              "0     Assistente virtual          eletronicos   219.08   9.249790   \n",
              "1         Mesa de jantar               moveis   256.35  11.234305   \n",
              "2      Jogo de tabuleiro           brinquedos   279.51  21.262681   \n",
              "3            Micro-ondas     eletrodomesticos  1009.99  54.667344   \n",
              "4  Cadeira de escritório               moveis   446.99  26.964689   \n",
              "\n",
              "  Data da Compra        Vendedor Local da compra  Avaliação da compra  \\\n",
              "0     16/01/2021     Pedro Gomes              SP                    4   \n",
              "1     18/05/2022  Beatriz Moraes              RJ                    1   \n",
              "2     15/03/2021      João Souza              DF                    1   \n",
              "3     03/05/2022      João Souza              RS                    4   \n",
              "4     07/11/2020   Larissa Alves              MG                    5   \n",
              "\n",
              "  Tipo de pagamento  Quantidade de parcelas    lat    lon  \n",
              "0    cartao_credito                       8 -22.19 -48.79  \n",
              "1    cartao_credito                       4 -22.25 -42.66  \n",
              "2    cartao_credito                       1 -15.83 -47.86  \n",
              "3            boleto                       1 -30.17 -53.50  \n",
              "4            boleto                       1 -18.10 -44.38  "
            ]
          },
          "execution_count": 1,
          "metadata": {},
          "output_type": "execute_result"
        }
      ],
      "source": [
        "import pandas as pd\n",
        "import matplotlib.pyplot as plt\n",
        "import os\n",
        "\n",
        "caminho_base = \"./base-de-dados-challenge-1/\"  # Note a barra normal (funciona em todos)\n",
        "arquivos_lojas = ['loja_1.csv', 'loja_2.csv', 'loja_3.csv', 'loja_4.csv']\n",
        "\n",
        "# Lista para armazenar as tabela (DataFrames) de cada loja\n",
        "lista_tabelas = []\n",
        "\n",
        "# Loop para ler cada arquivo e adicionar a tabela à lista\n",
        "for arquivo in arquivos_lojas:\n",
        "    caminho_completo = os.path.join(caminho_base, arquivo)  # Usando os.path.join()\n",
        "    df_loja = pd.read_csv(caminho_completo)\n",
        "    lista_tabelas.append(df_loja)\n",
        "\n",
        "# Concatena toda as tabelas na lista em uma única tabela chamada 'lojas'\n",
        "lojas = pd.concat(lista_tabelas, ignore_index=True)\n",
        "\n",
        "# mostra as 4 primeiras linhas da tabela concatenada com as informações de todas as 4 lojas\n",
        "lojas.head()"
      ]
    },
    {
      "cell_type": "markdown",
      "metadata": {},
      "source": [
        "# 1. Faturamento\n",
        "\n",
        "### 1.1 - Faturamento total por loja"
      ]
    },
    {
      "cell_type": "code",
      "execution_count": 2,
      "metadata": {},
      "outputs": [
        {
          "name": "stdout",
          "output_type": "stream",
          "text": [
            "Faturamento por Loja:\n",
            "  Loja     Faturamento\n",
            "Loja_1 R$ 1.534.509,12\n",
            "Loja_2 R$ 1.488.459,06\n",
            "Loja_3 R$ 1.464.025,03\n",
            "Loja_4 R$ 1.384.497,58\n"
          ]
        }
      ],
      "source": [
        "import pandas as pd\n",
        "import os\n",
        "\n",
        "caminho_base = \"./base-de-dados-challenge-1/\"\n",
        "arquivos_lojas = ['loja_1.csv', 'loja_2.csv', 'loja_3.csv', 'loja_4.csv']\n",
        "\n",
        "lista_tabelas = []\n",
        "\n",
        "for arquivo in arquivos_lojas:\n",
        "    caminho_completo = os.path.join(caminho_base, arquivo)\n",
        "    df_loja = pd.read_csv(caminho_completo)\n",
        "    # Extrai o nome da loja do nome do arquivo\n",
        "    nome_loja = arquivo.split('.')[0].capitalize()\n",
        "    df_loja['Loja'] = nome_loja  # Cria a coluna 'Loja'\n",
        "    lista_tabelas.append(df_loja)\n",
        "\n",
        "lojas = pd.concat(lista_tabelas, ignore_index=True)\n",
        "\n",
        "# Calcula o faturamento por loja\n",
        "faturamento_por_loja = lojas.groupby('Loja')['Preço'].sum().reset_index()\n",
        "\n",
        "# Formata o faturamento para exibição (CORREÇÃO AQUI)\n",
        "def formatar_moeda_br(valor):\n",
        "    valor_formatado = f'R$ {valor:,.2f}'\n",
        "    valor_formatado = valor_formatado.replace('.', '#')  # Temporariamente substitui o ponto\n",
        "    valor_formatado = valor_formatado.replace(',', '.')  # Substitui a vírgula\n",
        "    valor_formatado = valor_formatado.replace('#', ',')  # Restaura o ponto\n",
        "    return valor_formatado\n",
        "\n",
        "faturamento_por_loja['Faturamento'] = faturamento_por_loja['Preço'].apply(formatar_moeda_br)\n",
        "\n",
        "# Remove a coluna 'Preço'\n",
        "faturamento_por_loja = faturamento_por_loja.drop(columns=['Preço'])\n",
        "\n",
        "# Exibe o resultado\n",
        "print(\"Faturamento por Loja:\")\n",
        "print(faturamento_por_loja.to_string(index=False))"
      ]
    },
    {
      "cell_type": "markdown",
      "metadata": {},
      "source": [
        "### 1.2 Faturamento - Gráfico do faturamento total por loja"
      ]
    },
    {
      "cell_type": "code",
      "execution_count": 5,
      "metadata": {},
      "outputs": [
        {
          "data": {
            "image/png": "[encoded data removed]",
            "text/plain": [
              "<Figure size 1000x600 with 1 Axes>"
            ]
          },
          "metadata": {},
          "output_type": "display_data"
        }
      ],
      "source": [
        "import matplotlib.pyplot as plt\n",
        "import pandas as pd\n",
        "import seaborn as sns\n",
        "\n",
        "# Seu código para calcular o faturamento (já fornecido anteriormente)\n",
        "caminho_base = './base-de-dados-challenge-1/'\n",
        "arquivos_lojas = ['loja_1.csv', 'loja_2.csv', 'loja_3.csv', 'loja_4.csv']\n",
        "resultados = [pd.read_csv(caminho_base + arquivo) for arquivo in arquivos_lojas]\n",
        "nomes_lojas = [arquivo.split('.')[0].replace('_', ' ').title() for arquivo in arquivos_lojas]\n",
        "faturamentos = [df['Preço'].sum() for df in resultados]\n",
        "dados_resumo = {'Loja': nomes_lojas, 'Faturamento Total': faturamentos}\n",
        "df_resumo = pd.DataFrame(dados_resumo)\n",
        "\n",
        "def formatar_moeda_br(valor):\n",
        "    return f'R$ {valor:_.2f}'.replace('.', ',').replace('_', '.')\n",
        "\n",
        "df_resumo['Faturamento Total Formatado'] = df_resumo['Faturamento Total'].apply(formatar_moeda_br)\n",
        "df_resumo['Loja'] = df_resumo['Loja'].astype(str)\n",
        "\n",
        "# Gráfico de barras horizontais com Seaborn e paleta \"Set2\" (CORREÇÃO DO AVISO)\n",
        "sns.set_theme(style=\"whitegrid\")\n",
        "\n",
        "# Definindo o estilo do gráfico\n",
        "plt.figure(figsize=(10, 6))\n",
        "\n",
        "# Gráfico de barras horizontais\n",
        "sns.barplot(y='Loja', x='Faturamento Total', data=df_resumo, palette=\"Blues\", hue='Loja', legend=False)\n",
        "\n",
        "# Formata os valores do eixo x para moeda\n",
        "plt.xlabel('Faturamento Total (R$)', fontsize=12)\n",
        "plt.ylabel('Loja', fontsize=12)\n",
        "plt.title('Faturamento Total por Loja', fontsize=16)\n",
        "\n",
        "# Formata os ticks do eixo x para moeda\n",
        "plt.xticks(fontsize=10)\n",
        "plt.yticks(fontsize=10)\n",
        "sns.despine(bottom=True, left=True)\n",
        "plt.grid(axis='x', linestyle='--')\n",
        "plt.tight_layout()\n",
        "\n",
        "# Adiciona os valores ao lado das barras\n",
        "for i, v in enumerate(df_resumo['Faturamento Total']):\n",
        "    plt.text(v + 10000, i, f'R$ {v:_.2f}'.replace('.', ',').replace('_', '.'), va='center', fontsize=9)\n",
        "\n",
        "plt.show()"
      ]
    },
    {
      "cell_type": "markdown",
      "metadata": {},
      "source": [
        "# 2. Vendas por Categoria\n",
        "\n",
        "### 2.1 - Faturamento por categoria de produto"
      ]
    },
    {
      "cell_type": "code",
      "execution_count": null,
      "metadata": {},
      "outputs": [
        {
          "name": "stdout",
          "output_type": "stream",
          "text": [
            "Faturamento por Categoria (do maior para o menor):\n",
            " Categoria do Produto     Faturamento\n",
            "          eletronicos R$ 2.214.099,72\n",
            "     eletrodomesticos R$ 1.766.337,03\n",
            "               moveis R$ 1.010.214,00\n",
            "instrumentos musicais   R$ 465.029,67\n",
            "      esporte e lazer   R$ 190.635,39\n",
            "           brinquedos    R$ 98.140,86\n",
            "utilidades domesticas    R$ 76.773,38\n",
            "               livros    R$ 50.260,74\n"
          ]
        }
      ],
      "source": [
        "import pandas as pd\n",
        "import os\n",
        "\n",
        "caminho_base = \"./base-de-dados-challenge-1/\"\n",
        "arquivos_lojas = ['loja_1.csv', 'loja_2.csv', 'loja_3.csv', 'loja_4.csv']\n",
        "\n",
        "lista_tabelas = []\n",
        "\n",
        "for arquivo in arquivos_lojas:\n",
        "    caminho_completo = os.path.join(caminho_base, arquivo)\n",
        "    df_loja = pd.read_csv(caminho_completo)\n",
        "    lista_tabelas.append(df_loja)\n",
        "\n",
        "df_consolidado = pd.concat(lista_tabelas, ignore_index=True)\n",
        "\n",
        "# Calcula o faturamento por categoria\n",
        "faturamento_por_categoria = df_consolidado.groupby('Categoria do Produto')['Preço'].sum().reset_index()\n",
        "\n",
        "# 2. Formatar as colunas de valor como moeda\n",
        "# Formata o faturamento para exibição\n",
        "def formatar_moeda_br(valor):\n",
        "    valor_formatado = f'R$ {valor:,.2f}'\n",
        "    valor_formatado = valor_formatado.replace('.', '#')  # Temporariamente substitui o ponto\n",
        "    valor_formatado = valor_formatado.replace(',', '.')  # Substitui a vírgula\n",
        "    valor_formatado = valor_formatado.replace('#', ',')  # Restaura o ponto\n",
        "    return valor_formatado\n",
        "\n",
        "# Ordena o DataFrame pelo faturamento (coluna 'Preço') em ordem decrescente\n",
        "faturamento_por_categoria_ordenado = faturamento_por_categoria.sort_values(by='Preço', ascending=False)\n",
        "\n",
        "# Aplica a formatação da moeda na coluna 'Faturamento'\n",
        "faturamento_por_categoria_ordenado['Faturamento'] = faturamento_por_categoria_ordenado['Preço'].apply(formatar_moeda_br)\n",
        "\n",
        "# Remove a coluna 'Preço'\n",
        "faturamento_por_categoria_ordenado = faturamento_por_categoria_ordenado.drop(columns=['Preço'])\n",
        "\n",
        "# Exibe o resultado ordenado\n",
        "print(\"Faturamento por Categoria (do maior para o menor):\")\n",
        "print(faturamento_por_categoria_ordenado.to_string(index=False))"
      ]
    }
  ],
  "metadata": {
    "colab": {
      "provenance": []
    },
    "kernelspec": {
      "display_name": "Python 3",
      "name": "python3"
    },
    "language_info": {
      "codemirror_mode": {
        "name": "ipython",
        "version": 3
      },
      "file_extension": ".py",
      "mimetype": "text/x-python",
      "name": "python",
      "nbconvert_exporter": "python",
      "pygments_lexer": "ipython3",
      "version": "3.13.3"
    }
  },
  "nbformat": 4,
  "nbformat_minor": 0
}
